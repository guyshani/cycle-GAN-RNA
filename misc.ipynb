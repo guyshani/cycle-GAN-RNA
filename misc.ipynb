{
 "cells": [
  {
   "cell_type": "code",
   "execution_count": 1,
   "metadata": {},
   "outputs": [],
   "source": [
    "import pandas as pd\n",
    "import numpy as np\n",
    "import h5py\n",
    "#from scipy.stats import pearsonr"
   ]
  },
  {
   "cell_type": "code",
   "execution_count": 2,
   "metadata": {},
   "outputs": [
    {
     "name": "stderr",
     "output_type": "stream",
     "text": [
      "/var/folders/g_/c_f20pc566n31j9p36lcdc0w0000gn/T/ipykernel_76983/1220664012.py:8: DtypeWarning: Columns (393,808,883,926) have mixed types. Specify dtype option on import or set low_memory=False.\n",
      "  df=pd.read_csv(data_path+\"combined_normalized_data.csv\", sep=\";\")\n"
     ]
    }
   ],
   "source": [
    "# Load data\n",
    "data_path = \"/Users/guyshani/Documents/PHD/Aim_2/10x_data_mouse/20_1_2025__normalized/\"\n",
    "    \n",
    "# Load expression matrix\n",
    "#with h5py.File(data_path+'combined_normalized_data.h5', 'r') as f:\n",
    "#    x_train = f['matrix'][:]\n",
    "\n",
    "df=pd.read_csv(data_path+\"combined_normalized_data.csv\", sep=\";\")\n",
    "meta=pd.read_csv(data_path+\"combined_metadata.csv\", sep=\";\")"
   ]
  },
  {
   "cell_type": "code",
   "execution_count": 14,
   "metadata": {},
   "outputs": [
    {
     "name": "stdout",
     "output_type": "stream",
     "text": [
      "B cells: 20966\n",
      "Macrophages: 8690\n",
      "T cells: 7866\n",
      "Monocytes: 2198\n",
      "Granulocytes: 866\n",
      "NK cells: 713\n",
      "Erythrocytes: 231\n",
      "Dendritic cells: 38\n",
      "Fibroblasts: 17\n",
      "Endothelial cells: 3\n",
      "B cells\n",
      "Macrophages\n",
      "T cells\n",
      "Monocytes\n",
      "Granulocytes\n",
      "NK cells\n",
      "Erythrocytes\n",
      "Dendritic cells\n",
      "Fibroblasts\n",
      "Endothelial cells\n"
     ]
    }
   ],
   "source": [
    "celltype_count['B cells']\n",
    "\n",
    "# Loop through keys and values\n",
    "for key, value in celltype_count.items():\n",
    "    print(f\"{key}: {value}\")\n",
    "\n",
    "# Loop through just keys\n",
    "for key in celltype_count.keys():\n",
    "    print(key)\n",
    "# Loop through just values\n",
    "#for value in my_dict.values():\n",
    "#    print(value)"
   ]
  },
  {
   "cell_type": "code",
   "execution_count": 11,
   "metadata": {},
   "outputs": [
    {
     "name": "stderr",
     "output_type": "stream",
     "text": [
      "/var/folders/g_/c_f20pc566n31j9p36lcdc0w0000gn/T/ipykernel_78420/3186187728.py:10: DtypeWarning: Columns (393,808,883,926) have mixed types. Specify dtype option on import or set low_memory=False.\n",
      "  df_real = pd.read_csv(f'{data_path}combined_normalized_data.csv', sep=\";\")  # load real data\n"
     ]
    }
   ],
   "source": [
    "## Load real and generated scRNA-seq data\n",
    "\n",
    "run_dir = \"/Users/guyshani/Documents/PHD/Aim_2/10x_data_mouse/20_1_2025__normalized/saved_models/run_20250121_150654_dataset_cell_type\"\n",
    "data_path = \"/Users/guyshani/Documents/PHD/Aim_2/10x_data_mouse/20_1_2025__normalized/\"\n",
    "\n",
    "df_gen = pd.read_csv(f'{run_dir}_generated_data.csv')   # load generated data\n",
    "cell_type = df_gen.iloc[:,-1]   # get cell type column\n",
    "dataset = df_gen.iloc[:,-2] # get dataset column\n",
    "df_gen = df_gen.drop(df_gen.columns[-2:], axis=1)   # drop label columns\n",
    "df_real = pd.read_csv(f'{data_path}combined_normalized_data.csv', sep=\";\")  # load real data\n",
    "cell_ids = df_real.iloc[:,0]    # get cell ids colums\n",
    "gene_names = df_real.columns    # get gene names\n",
    "#df_real = df_real.drop(df_real.columns[0], axis=1)"
   ]
  },
  {
   "cell_type": "code",
   "execution_count": null,
   "metadata": {},
   "outputs": [
    {
     "name": "stdout",
     "output_type": "stream",
     "text": [
      "x_test shape: (41588, 1000)\n",
      "x_gen shape: (41588, 1000)\n"
     ]
    }
   ],
   "source": [
    "## replace \",\" with \".\" and convert string to float for the real data we loaded\n",
    "df_real = df_real.replace(',', '.', regex=True)\n",
    "df_real = df_real.apply(pd.to_numeric)\n",
    "df_real = df_real.to_numpy()\n",
    "df_gen = df_gen.to_numpy()\n",
    "# test that both matrices have the same size\n",
    "print(\"x_test shape:\", df_real.shape)\n",
    "print(\"x_gen shape:\", df_gen.shape)"
   ]
  },
  {
   "cell_type": "code",
   "execution_count": 7,
   "metadata": {},
   "outputs": [],
   "source": [
    "def upper_diag_list(m_):\n",
    "   \"\"\"Returns upper triangular values of matrix, excluding diagonal\"\"\"\n",
    "   # np.triu_indices gets indices of upper triangle, k=1 excludes diagonal\n",
    "   return m_[np.triu_indices(len(m_), k=1)]\n",
    "\n",
    "def standardize(a):\n",
    "    \"\"\"Standardizes data by subtracting mean and dividing by std dev (z-score)\"\"\"\n",
    "    a_off = np.mean(a, axis=0)  # Calculate mean\n",
    "    a_std = np.std(a, axis=0)   # Calculate standard deviation\n",
    "    S = (a - a_off) / a_std     # Z-score standardization\n",
    "    S[np.isnan(S)] = (a - a_off)[np.isnan(S)]  # Handle zeros in std\n",
    "    return S\n",
    "def pearson_correlation(x: np.array, y: np.array):\n",
    "    \"\"\"Computes correlation between each pair of vectors in x and y matrices\"\"\"\n",
    "    assert x.shape[0] == y.shape[0] # Check input matrices have same number of samples\n",
    "    x_ = standardize(x)\n",
    "    y_ = standardize(y)\n",
    "    return np.dot(x_.T, y_) / x.shape[0]  # Compute correlation as dot product of standardized values\n",
    "\n",
    "def correlations_list(x: np.array, y: np.array):\n",
    "    \"\"\"Gets list of correlations between all pairs\"\"\"\n",
    "    corr = pearson_correlation(x, y)\n",
    "    return upper_diag_list(corr)\n",
    "\n",
    "def gamma_coeff_score(x_test: np.array, x_gen: np.array):\n",
    "    \"\"\"Calculates correlation between distance matrices of test and generated data\"\"\"\n",
    "    assert x_test.shape[1] == x_gen.shape[1]    # Verify matrices have same number of features\n",
    "    dists_x = 1 - correlations_list(x_test, x_test)\n",
    "    dists_y = 1 - correlations_list(x_gen, x_gen)\n",
    "    # Reshape for pearson_correlation, to column vectors and compute correlation between distances\n",
    "    return pearson_correlation(dists_x.reshape(-1, 1), dists_y.reshape(-1, 1))"
   ]
  },
  {
   "cell_type": "code",
   "execution_count": 8,
   "metadata": {},
   "outputs": [],
   "source": [
    "g = gamma_coeff_score(df_real, df_gen)"
   ]
  }
 ],
 "metadata": {
  "kernelspec": {
   "display_name": ".venv",
   "language": "python",
   "name": "python3"
  },
  "language_info": {
   "codemirror_mode": {
    "name": "ipython",
    "version": 3
   },
   "file_extension": ".py",
   "mimetype": "text/x-python",
   "name": "python",
   "nbconvert_exporter": "python",
   "pygments_lexer": "ipython3",
   "version": "3.11.7"
  }
 },
 "nbformat": 4,
 "nbformat_minor": 2
}
